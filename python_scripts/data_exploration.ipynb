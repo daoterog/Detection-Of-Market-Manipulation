{
 "cells": [
  {
   "cell_type": "markdown",
   "metadata": {},
   "source": [
    "# Imports"
   ]
  },
  {
   "cell_type": "code",
   "execution_count": 1,
   "metadata": {},
   "outputs": [],
   "source": [
    "%load_ext autoreload\n",
    "%autoreload 2\n",
    "\n",
    "import os\n",
    "\n",
    "import pandas as pd"
   ]
  },
  {
   "cell_type": "markdown",
   "metadata": {},
   "source": [
    "# Data loading"
   ]
  },
  {
   "cell_type": "code",
   "execution_count": 11,
   "metadata": {},
   "outputs": [
    {
     "data": {
      "text/plain": [
       "{'adnc': {'stf_spectogram':                 coef_0             coef_1             coef_2  \\\n",
       "  0     2.0498 + 0.0000i   5.5527 + 0.0000i   4.1448 + 0.0000i   \n",
       "  1     0.5915 - 1.6932i   1.4713 - 4.9145i   2.3026 - 3.0329i   \n",
       "  2    -0.8871 - 0.7559i  -3.3730 - 2.2295i  -0.6850 - 2.8983i   \n",
       "  3    -0.4736 + 0.1602i  -2.1189 + 1.7002i  -1.7762 - 1.0563i   \n",
       "  4    -0.1729 + 0.0869i   0.4498 + 1.4986i  -1.3776 + 0.2776i   \n",
       "  ..                 ...                ...                ...   \n",
       "  124  -0.0065 - 0.0104i   0.0431 + 0.0010i   0.0152 + 0.0488i   \n",
       "  125  -0.0075 + 0.0097i   0.0284 - 0.0283i   0.0557 + 0.0118i   \n",
       "  126   0.0097 + 0.0039i   0.0031 - 0.0378i   0.0367 - 0.0415i   \n",
       "  127   0.0011 - 0.0092i  -0.0252 - 0.0313i  -0.0180 - 0.0450i   \n",
       "  128  -0.0091 + 0.0000i  -0.0421 + 0.0000i  -0.0444 + 0.0000i   \n",
       "  \n",
       "                         coef_3                     coef_4             coef_5  \\\n",
       "  0            1.7926 + 0.0000i           1.7292 + 0.0000i   1.7463 + 0.0000i   \n",
       "  1            0.6548 - 1.4702i           0.6347 - 1.4129i   0.6192 - 1.4353i   \n",
       "  2           -0.7721 - 0.8543i          -0.7299 - 0.8218i  -0.7582 - 0.8056i   \n",
       "  3           -0.5975 + 0.2024i          -0.5631 + 0.1765i  -0.5550 + 0.1969i   \n",
       "  4           -0.0097 + 0.2409i          -0.0246 + 0.2108i  -0.0228 + 0.2041i   \n",
       "  ..                        ...                        ...                ...   \n",
       "  124         -0.0017 + 0.0003i   4.4396e-04 - 9.5597e-05i   0.0006 + 0.0013i   \n",
       "  125          0.0020 + 0.0021i           0.0031 + 0.0005i   0.0035 + 0.0000i   \n",
       "  126          0.0023 - 0.0010i           0.0016 - 0.0024i   0.0003 - 0.0022i   \n",
       "  127  5.2678e-04 - 8.8125e-05i  -2.6696e-04 + 5.1253e-05i  -0.0000 + 0.0020i   \n",
       "  128          0.0016 + 0.0000i           0.0016 + 0.0000i   0.0038 + 0.0000i   \n",
       "  \n",
       "                  coef_6    freq  \n",
       "  0     1.8886 + 0.0000i  0.0000  \n",
       "  1     0.6918 - 1.5603i  0.0245  \n",
       "  2    -0.8420 - 0.9206i  0.0491  \n",
       "  3    -0.6710 + 0.2397i  0.0736  \n",
       "  4    -0.0016 + 0.2916i  0.0982  \n",
       "  ..                 ...     ...  \n",
       "  124  -0.0005 + 0.0029i  3.0434  \n",
       "  125   0.0038 + 0.0013i  3.0680  \n",
       "  126   0.0008 - 0.0013i  3.0925  \n",
       "  127   0.0010 + 0.0028i  3.1170  \n",
       "  128   0.0052 + 0.0000i  3.1416  \n",
       "  \n",
       "  [129 rows x 8 columns]}}"
      ]
     },
     "execution_count": 11,
     "metadata": {},
     "output_type": "execute_result"
    }
   ],
   "source": [
    "stocks_dict"
   ]
  },
  {
   "cell_type": "code",
   "execution_count": null,
   "metadata": {},
   "outputs": [],
   "source": []
  }
 ],
 "metadata": {
  "kernelspec": {
   "display_name": "Python 3.7.13 ('manip_detection')",
   "language": "python",
   "name": "python3"
  },
  "language_info": {
   "codemirror_mode": {
    "name": "ipython",
    "version": 3
   },
   "file_extension": ".py",
   "mimetype": "text/x-python",
   "name": "python",
   "nbconvert_exporter": "python",
   "pygments_lexer": "ipython3",
   "version": "3.7.13"
  },
  "orig_nbformat": 4,
  "vscode": {
   "interpreter": {
    "hash": "e6fa607ed8b3c054da98fa8bd84bca29088a6eb7431bdff5d11503d9d4c696e8"
   }
  }
 },
 "nbformat": 4,
 "nbformat_minor": 2
}
